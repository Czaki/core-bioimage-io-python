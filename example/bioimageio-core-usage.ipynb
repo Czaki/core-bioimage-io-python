{
 "cells": [
  {
   "cell_type": "markdown",
   "id": "0daf2216",
   "metadata": {},
   "source": [
    "# bioimageio.core usage examples"
   ]
  },
  {
   "cell_type": "code",
   "execution_count": 1,
   "id": "c72ba149",
   "metadata": {},
   "outputs": [],
   "source": [
    "import os\n",
    "import hashlib\n",
    "\n",
    "import bioimageio.core\n",
    "import imageio\n",
    "import napari\n",
    "import numpy as np\n",
    "import xarray as xr\n",
    "\n",
    "from bioimageio.core.prediction_pipeline import create_prediction_pipeline"
   ]
  },
  {
   "cell_type": "code",
   "execution_count": 2,
   "id": "74613461",
   "metadata": {},
   "outputs": [],
   "source": [
    "def show_images(*images, names=None):\n",
    "    v = napari.Viewer()\n",
    "    for i, im  in enumerate(images):\n",
    "        name = None if names is None else names[i]\n",
    "        v.add_image(im, name=name)"
   ]
  },
  {
   "cell_type": "markdown",
   "id": "f2deb81f",
   "metadata": {},
   "source": [
    "## Loading a model\n",
    "https://bioimage.io/#/?id=10.5072%2Fzenodo.881940"
   ]
  },
  {
   "cell_type": "code",
   "execution_count": 3,
   "id": "2de51dae",
   "metadata": {},
   "outputs": [],
   "source": [
    "# rdf_url = \"https://sandbox.zenodo.org/record/881989/files/rdf.yaml\"\n",
    "rdf_url = \"https://sandbox.zenodo.org/record/881989/files/rdf.yaml?download=1\"\n",
    "rdf_doi = \"10.5072/zenodo.881940\"\n",
    "rdf_path = \"/home/pape/Downloads/dsb-nuclei-boundarymodelnew_pytorch_state_dict.zip\""
   ]
  },
  {
   "cell_type": "code",
   "execution_count": 4,
   "id": "ce884f8c",
   "metadata": {},
   "outputs": [],
   "source": [
    "# load model from link to rdf.yaml\n",
    "# TODO does not work yet\n",
    "# model_resource = bioimageio.core.load_resource_description(rdf_url)"
   ]
  },
  {
   "cell_type": "code",
   "execution_count": 5,
   "id": "c1230b2d",
   "metadata": {},
   "outputs": [],
   "source": [
    "# TODO does not work yet\n",
    "# model_resource = bioimageio.core.load_resource_description(rdf_doi)"
   ]
  },
  {
   "cell_type": "code",
   "execution_count": 6,
   "id": "8329315c",
   "metadata": {},
   "outputs": [],
   "source": [
    "# load model from path to zip\n",
    "# TODO explain that this also works with unpacked model and path to rdf.yaml\n",
    "model_resource = bioimageio.core.load_resource_description(rdf_path)"
   ]
  },
  {
   "cell_type": "markdown",
   "id": "34c75014",
   "metadata": {},
   "source": [
    "## Prediction with the model"
   ]
  },
  {
   "cell_type": "code",
   "execution_count": 8,
   "id": "f59b1b15",
   "metadata": {},
   "outputs": [],
   "source": [
    "input_image = np.load(model_resource.test_inputs[0])"
   ]
  },
  {
   "cell_type": "code",
   "execution_count": 9,
   "id": "808e2ca7",
   "metadata": {},
   "outputs": [],
   "source": [
    "# prediction with numpy arrays\n",
    "# explain!\n",
    "def predict_numpy(model, input_, devices=None, weight_format=None):\n",
    "    pred_pipeline = create_prediction_pipeline(\n",
    "        bioimageio_model=model, devices=devices, weight_format=weight_format\n",
    "    )\n",
    "\n",
    "    # explain!\n",
    "    axes = tuple(model.outputs[0].axes)\n",
    "    input_tensor = xr.DataArray(input_, dims=axes)\n",
    "    prediction = pred_pipeline(input_tensor)[0]\n",
    "    return prediction"
   ]
  },
  {
   "cell_type": "code",
   "execution_count": 10,
   "id": "4f235e9a",
   "metadata": {},
   "outputs": [
    {
     "name": "stderr",
     "output_type": "stream",
     "text": [
      "/home/pape/Work/software/conda/miniconda3/envs/bio-core-dev/lib/python3.7/site-packages/torch/nn/functional.py:718: UserWarning: Named tensors and all their associated APIs are an experimental feature and subject to change. Please do not use them for anything important until they are released as stable. (Triggered internally at  /tmp/pip-req-build-xi8rb33b/c10/core/TensorImpl.h:1156.)\n",
      "  return torch.max_pool2d(input, kernel_size, stride, padding, dilation, ceil_mode)\n"
     ]
    }
   ],
   "source": [
    "prediction = predict_numpy(model_resource, input_image)\n",
    "show_images(input_image, prediction, names=[\"image\", \"prediction\"])"
   ]
  },
  {
   "cell_type": "code",
   "execution_count": 11,
   "id": "58f6c459",
   "metadata": {},
   "outputs": [],
   "source": [
    "# prediction with image from disc\n",
    "from bioimageio.core.prediction import predict_image\n",
    "outputs = [\"prediction.tif\"]\n",
    "predict_image(\n",
    "    model_resource, model_resource.test_inputs, outputs\n",
    ")\n",
    "fg_pred = imageio.imread(\"prediction-c0.tif\")\n",
    "bd_pred = imageio.imread(\"prediction-c1.tif\")\n",
    "show_images(input_image, fg_pred, bd_pred,\n",
    "            names=[\"image\", \"foreground-prediction\", \"boundary-prediction\"])"
   ]
  },
  {
   "cell_type": "code",
   "execution_count": 12,
   "id": "879618df",
   "metadata": {},
   "outputs": [],
   "source": [
    "# prediction with image from disc\n",
    "# TODO download dsb data, and run multi-image prediction with tiling and padding\n",
    "from bioimageio.core.prediction import predict_images"
   ]
  },
  {
   "cell_type": "markdown",
   "id": "ea8fd710",
   "metadata": {},
   "source": [
    "## Create a biomiage.io model package"
   ]
  },
  {
   "cell_type": "code",
   "execution_count": 13,
   "id": "5962d73a",
   "metadata": {},
   "outputs": [
    {
     "name": "stderr",
     "output_type": "stream",
     "text": [
      "invalid local relative path: documentation.md\n"
     ]
    }
   ],
   "source": [
    "# create a new model with different post-processing\n",
    "from bioimageio.core.build_spec import build_model\n",
    "\n",
    "model_root = \"./new_model\"\n",
    "os.makedirs(model_root, exist_ok=True)\n",
    "\n",
    "threshold = 0.5\n",
    "new_output = prediction > threshold\n",
    "new_output_path = f\"{model_root}/new_test_output.npy\"\n",
    "np.save(new_output_path, new_output)\n",
    "\n",
    "# explain!\n",
    "preprocessing = [\n",
    "    {prep.name: prep.kwargs for prep in model_resource.inputs[0].preprocessing}\n",
    "]\n",
    "postprocessing = [{\"binarize\": {\"threshold\": threshold}}]\n",
    "\n",
    "model_path = os.path.join(model_resource.root_path, \"unet.py\")\n",
    "assert os.path.exists(model_path), model_path\n",
    "model_source = f\"{model_path}:UNet2d\"\n",
    "\n",
    "cite = {cite_entry.text: cite_entry.url for cite_entry in model_resource.cite}\n",
    "name = \"new-model1\"\n",
    "\n",
    "weight_file = model_resource.weights[\"pytorch_state_dict\"].source\n",
    "with open(weight_file, \"rb\") as f:\n",
    "    weight_hash = hashlib.sha256(f.read()).hexdigest()\n",
    "parent = (rdf_doi, weight_hash)\n",
    "\n",
    "zip_path = os.path.join(model_root, f\"{name}.zip\")\n",
    "new_model_raw = build_model(\n",
    "    weight_file,\n",
    "    test_inputs=model_resource.test_inputs,\n",
    "    test_outputs=[new_output_path],\n",
    "    output_path=zip_path,\n",
    "    name=name,\n",
    "    description=\"nucleus segmentation model with thresholding\",\n",
    "    authors=[{\"name\": \"Jane Doe\"}],\n",
    "    license=\"CC-BY-4.0\",\n",
    "    documentation=model_resource.documentation,\n",
    "    covers=[str(cover) for cover in model_resource.covers],\n",
    "    tags=[\"nucleus-segmentation\"],\n",
    "    cite=cite,\n",
    "    parent=parent,\n",
    "    root=model_root,\n",
    "    source=model_source,\n",
    "    model_kwargs=model_resource.kwargs,\n",
    "    preprocessing=preprocessing,\n",
    "    postprocessing=postprocessing\n",
    ")"
   ]
  },
  {
   "cell_type": "code",
   "execution_count": 14,
   "id": "e0616547",
   "metadata": {},
   "outputs": [],
   "source": [
    "new_model = bioimageio.core.load_resource_description(zip_path)\n",
    "prediction = predict_numpy(new_model, input_image)\n",
    "show_images(input_image, prediction, names=[\"input\", \"binarized-prediction\"])"
   ]
  },
  {
   "cell_type": "markdown",
   "id": "85287bf7",
   "metadata": {},
   "source": [
    "## Add different weight format and package model with new weights"
   ]
  },
  {
   "cell_type": "code",
   "execution_count": 16,
   "id": "482a64bb",
   "metadata": {},
   "outputs": [
    {
     "name": "stderr",
     "output_type": "stream",
     "text": [
      "invalid local relative path: ./documentation.md\n"
     ]
    }
   ],
   "source": [
    "from bioimageio.core.weight_converter.torch import convert_weights_to_pytorch_script\n",
    "from bioimageio.core.build_spec import add_weights\n",
    "\n",
    "weight_path = os.path.join(model_root, \"weights.torchscript\")\n",
    "convert_weights_to_pytorch_script(new_model, weight_path)\n",
    "zip_path = f\"{model_root}/new_model2.zip\"\n",
    "new_model2_raw = add_weights(new_model_raw, weight_path, weight_type=\"pytorch_script\", output_path=zip_path)"
   ]
  },
  {
   "cell_type": "code",
   "execution_count": 17,
   "id": "b15dd990",
   "metadata": {},
   "outputs": [],
   "source": [
    "new_model = bioimageio.core.load_resource_description(zip_path)\n",
    "prediction = predict_numpy(new_model, input_image, weight_format=\"pytorch_script\")\n",
    "show_images(input_image, prediction, names=[\"input\", \"binarized-prediction\"])"
   ]
  },
  {
   "cell_type": "code",
   "execution_count": 18,
   "id": "2aa9db23",
   "metadata": {},
   "outputs": [
    {
     "name": "stderr",
     "output_type": "stream",
     "text": [
      "invalid local relative path: ./documentation.md\n"
     ]
    },
    {
     "data": {
      "text/plain": [
       "'another_model.zip'"
      ]
     },
     "execution_count": 18,
     "metadata": {},
     "output_type": "execute_result"
    }
   ],
   "source": [
    "# saving model packages\n",
    "bioimageio.core.export_resource_package(new_model2_raw, output_path=\"another_model.zip\")"
   ]
  }
 ],
 "metadata": {
  "kernelspec": {
   "display_name": "Python 3",
   "language": "python",
   "name": "python3.bkp"
  },
  "language_info": {
   "codemirror_mode": {
    "name": "ipython",
    "version": 3
   },
   "file_extension": ".py",
   "mimetype": "text/x-python",
   "name": "python",
   "nbconvert_exporter": "python",
   "pygments_lexer": "ipython3",
   "version": "3.7.11"
  }
 },
 "nbformat": 4,
 "nbformat_minor": 5
}
